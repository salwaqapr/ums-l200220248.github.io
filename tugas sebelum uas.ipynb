{
 "cells": [
  {
   "cell_type": "code",
   "execution_count": 54,
   "id": "7786397a-22f0-4b83-a8b0-61a54168c877",
   "metadata": {},
   "outputs": [],
   "source": [
    "x = 'data_group.txt'"
   ]
  },
  {
   "cell_type": "code",
   "execution_count": 55,
   "id": "ec9decf7-c802-493d-b342-4c1d513e6607",
   "metadata": {},
   "outputs": [],
   "source": [
    "import re\n",
    "from collections import defaultdict"
   ]
  },
  {
   "cell_type": "code",
   "execution_count": 56,
   "id": "67afd92a-5b97-46ff-9792-4ff37cf422bb",
   "metadata": {},
   "outputs": [],
   "source": [
    "with open(x, 'r', encoding='utf-8') as file:\n",
    "    lines = file.readlines()"
   ]
  },
  {
   "cell_type": "code",
   "execution_count": 57,
   "id": "6d9cc649-3bd0-46cf-9f7c-712f2cdea430",
   "metadata": {},
   "outputs": [],
   "source": [
    "# Proses komentar berdasarkan grup\n",
    "group_data = defaultdict(list)\n",
    "current_group = None"
   ]
  },
  {
   "cell_type": "code",
   "execution_count": 58,
   "id": "05b96c8e-fd2f-4b92-a511-3ec2b982527d",
   "metadata": {},
   "outputs": [],
   "source": [
    "for line in lines:\n",
    "    if \"Posbindu PKM Juwiring\" in line:\n",
    "        current_group = \"Posbindu PKM Juwiring\"\n",
    "    elif \"GROUP NAME XYZ\" in line:  # Tambahkan nama grup lainnya\n",
    "        current_group = \"GROUP NAME XYZ\"\n",
    "\n",
    "    if current_group:\n",
    "        group_data[current_group].append(line)"
   ]
  },
  {
   "cell_type": "code",
   "execution_count": 59,
   "id": "bfde3ae5-3ebf-43be-a9b3-ecaf397303f3",
   "metadata": {},
   "outputs": [],
   "source": [
    "# Pilih grup dengan jumlah komentar terbanyak\n",
    "selected_group = max(group_data, key=lambda k: len(group_data[k]))"
   ]
  },
  {
   "cell_type": "code",
   "execution_count": 60,
   "id": "4662d4ac-4fb1-4cea-91ef-26c8d8ef9ca5",
   "metadata": {},
   "outputs": [],
   "source": [
    "# Simpan data ke file teks\n",
    "with open('data_group.txt', 'w', encoding='utf-8') as file:\n",
    "    file.writelines(group_data[selected_group])"
   ]
  },
  {
   "cell_type": "code",
   "execution_count": 61,
   "id": "a02ab43a-c596-4824-ac0c-3f7b9c6e6de7",
   "metadata": {},
   "outputs": [],
   "source": [
    "import tarfile\n",
    "\n",
    "with tarfile.open(\"data_group.tar\", \"w\") as tar:\n",
    "    tar.add(\"data_group.csv\")"
   ]
  },
  {
   "cell_type": "code",
   "execution_count": 62,
   "id": "b61e2a3e-0311-46fb-8ae5-7d04903306f2",
   "metadata": {},
   "outputs": [],
   "source": [
    "cleaned_lines = []\n",
    "for line in lines:\n",
    "    cleaned_line = re.sub(r'[^a-zA-Z0-9\\s.,!?]', '', line)\n",
    "    cleaned_lines.append(cleaned_line)\n",
    "\n",
    "# Simpan versi bersih\n",
    "with open('data_group_cleaned.txt', 'w', encoding='utf-8') as file:\n",
    "    file.writelines(cleaned_lines)"
   ]
  },
  {
   "cell_type": "code",
   "execution_count": 63,
   "id": "482cb9ba-835e-4b68-857f-710b111fd391",
   "metadata": {},
   "outputs": [
    {
     "name": "stdout",
     "output_type": "stream",
     "text": [
      "Cluster 3\n",
      "Cluster 0: umum, aktif, posbindu\n",
      "Cluster 1: umum, aktif, posbindu\n",
      "Cluster 2: umum, aktif, posbindu\n",
      "Cluster 4\n",
      "Cluster 0: prasojo, nama, sehat\n",
      "Cluster 1: prasojo, nama, sehat\n",
      "Cluster 2: prasojo, nama, sehat\n",
      "Cluster 3: prasojo, nama, sehat\n",
      "Cluster 5\n",
      "Cluster 0: prasojo, nama, sehat\n",
      "Cluster 1: prasojo, nama, sehat\n",
      "Cluster 2: prasojo, nama, sehat\n",
      "Cluster 3: prasojo, nama, sehat\n",
      "Cluster 4: prasojo, nama, sehat\n"
     ]
    }
   ],
   "source": [
    "from sklearn.feature_extraction.text import TfidfVectorizer\n",
    "from sklearn.cluster import KMeans\n",
    "from sklearn.metrics import silhouette_score\n",
    "\n",
    "# Membaca data\n",
    "with open('data_group_cleaned.txt', 'r', encoding='utf-8') as file:\n",
    "    data = file.readlines()\n",
    "\n",
    "# TF-IDF\n",
    "vectorizer = TfidfVectorizer(stop_words='english')\n",
    "X = vectorizer.fit_transform(data)\n",
    "\n",
    "# KMeans Clustering\n",
    "for n_clusters in [3, 4, 5]:\n",
    "    kmeans = KMeans(n_clusters=n_clusters, random_state=42)\n",
    "    labels = kmeans.fit_predict(X)\n",
    "\n",
    "    print(f\"Cluster {n_clusters}\")\n",
    "    terms = vectorizer.get_feature_names_out()\n",
    "    for i in range(n_clusters):\n",
    "        top_terms = [terms[ind] for ind in kmeans.cluster_centers_.argsort()[0][-3:]]\n",
    "        print(f\"Cluster {i}: {', '.join(top_terms)}\")\n"
   ]
  },
  {
   "cell_type": "code",
   "execution_count": 65,
   "id": "bda0f6d1-5275-4d9a-a532-3f2bcdedc9a1",
   "metadata": {},
   "outputs": [
    {
     "name": "stdout",
     "output_type": "stream",
     "text": [
      "Laporan HTML tersimpan di: laporan.html\n"
     ]
    }
   ],
   "source": [
    "html_content = f\"\"\"\n",
    "<!DOCTYPE html>\n",
    "<html lang=\"en\">\n",
    "<head>\n",
    "    <meta charset=\"UTF-8\">\n",
    "    <meta name=\"viewport\" content=\"width=device-width, initial-scale=1.0\">\n",
    "    <title>Laporan Clustering</title>\n",
    "    <style>\n",
    "        body {{ font-family: Arial, sans-serif; margin: 20px; }}\n",
    "        h1 {{ color: #2c3e50; }}\n",
    "        .cluster {{ margin-bottom: 20px; }}\n",
    "    </style>\n",
    "</head>\n",
    "<body>\n",
    "    <h1>Laporan Hasil Clustering</h1>\n",
    "    <p>Data diproses dan dianalisis dengan metode TF-IDF dan algoritma KMeans untuk membuat 3, 4, dan 5 klaster.</p>\n",
    "    <h2>Analisis</h2>\n",
    "    <div>\n",
    "        <h3>Hasil Clustering (3 Klaster)</h3>\n",
    "        <p>... Analisis dan kata teratas ...</p>\n",
    "        <h3>Hasil Clustering (4 Klaster)</h3>\n",
    "        <p>... Analisis dan kata teratas ...</p>\n",
    "        <h3>Hasil Clustering (5 Klaster)</h3>\n",
    "        <p>... Analisis dan kata teratas ...</p>\n",
    "    </div>\n",
    "</body>\n",
    "</html>\n",
    "\"\"\"\n",
    "\n",
    "report_file = \"laporan.html\"\n",
    "with open(report_file, 'w', encoding='utf-8') as file:\n",
    "    file.write(html_content)\n",
    "\n",
    "print(f\"Laporan HTML tersimpan di: {report_file}\")\n"
   ]
  },
  {
   "cell_type": "code",
   "execution_count": null,
   "id": "e90b2de7-dc63-4aca-a606-c3c4ff015623",
   "metadata": {},
   "outputs": [],
   "source": []
  }
 ],
 "metadata": {
  "kernelspec": {
   "display_name": "Python 3 (ipykernel)",
   "language": "python",
   "name": "python3"
  },
  "language_info": {
   "codemirror_mode": {
    "name": "ipython",
    "version": 3
   },
   "file_extension": ".py",
   "mimetype": "text/x-python",
   "name": "python",
   "nbconvert_exporter": "python",
   "pygments_lexer": "ipython3",
   "version": "3.10.7"
  }
 },
 "nbformat": 4,
 "nbformat_minor": 5
}
